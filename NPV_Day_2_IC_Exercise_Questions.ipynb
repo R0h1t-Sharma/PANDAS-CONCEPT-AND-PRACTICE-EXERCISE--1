{
 "cells": [
  {
   "cell_type": "markdown",
   "metadata": {
    "id": "kic6oK53broE"
   },
   "source": [
    "<table align=\"left\" width=100%>\n",
    "    <tr>\n",
    "        <td width=\"20%\">\n",
    "            <img src=\"GL-2.png\">\n",
    "        </td>\n",
    "        <td>\n",
    "            <div align=\"center\">\n",
    "                <font color=\"#21618C\" size=8px>\n",
    "                    <b>Inclass - Lab<br> (Day 2)\n",
    "                    </b>\n",
    "                </font>\n",
    "            </div>\n",
    "        </td>\n",
    "    </tr>\n",
    "</table>"
   ]
  },
  {
   "cell_type": "markdown",
   "metadata": {
    "id": "oe1s0Kh3broG"
   },
   "source": [
    "## Table of Content\n",
    "1. **[Data Structures with Examples](#Data_Structures)**\n",
    "2. **[Create and Manipulate the DataFrames](#create_manipulate)**\n",
    "3. **[Sort](#sorting)**\n",
    "4. **[Rank](#ranking)**"
   ]
  },
  {
   "cell_type": "markdown",
   "metadata": {
    "id": "JlJ7Wtw-broG"
   },
   "source": [
    "### Let's begin with some hands-on practice exercises"
   ]
  },
  {
   "cell_type": "markdown",
   "metadata": {
    "id": "26XpOEYEbroH"
   },
   "source": [
    "<a id='Data_Structures'></a>\n",
    "## 1. Data Structures with Examples:"
   ]
  },
  {
   "cell_type": "markdown",
   "metadata": {
    "id": "Rj8q582cbroI"
   },
   "source": [
    "<table align=\"left\">\n",
    "    <tr>\n",
    "        <td width=\"6%\">\n",
    "            <img src=\"question_icon.png\">\n",
    "        </td>\n",
    "        <td>\n",
    "            <div align=\"left\", style=\"font-size:120%\">\n",
    "                <font color=\"#21618C\">\n",
    "                    <b>1. Write a program to create a dataframe from list of lists\n",
    "</b>\n",
    "                </font>\n",
    "            </div>\n",
    "        </td>\n",
    "    </tr>\n",
    "</table>"
   ]
  },
  {
   "cell_type": "markdown",
   "metadata": {
    "id": "PzHrJnNRbroJ"
   },
   "source": [
    "**Use the below nested list:**<br>\n",
    "\n",
    "        data = [['Joy', 21], ['Mia', 15], ['Sam', 14]]"
   ]
  },
  {
   "cell_type": "code",
   "execution_count": 1,
   "metadata": {
    "id": "yOGk37kZ7Isg"
   },
   "outputs": [
    {
     "name": "stdout",
     "output_type": "stream",
     "text": [
      "  Name  Age\n",
      "0  Joy   21\n",
      "1  Mia   15\n",
      "2  Sam   14\n"
     ]
    }
   ],
   "source": [
    "# type your code here\n",
    "import pandas as pd\n",
    "\n",
    "# Given nested list\n",
    "data = [['Joy', 21], ['Mia', 15], ['Sam', 14]]\n",
    "\n",
    "# Create DataFrame\n",
    "df = pd.DataFrame(data, columns=['Name', 'Age'])\n",
    "\n",
    "# Display the DataFrame\n",
    "print(df)\n"
   ]
  },
  {
   "cell_type": "markdown",
   "metadata": {
    "id": "GTblkct8broO"
   },
   "source": [
    "<table align=\"left\">\n",
    "    <tr>\n",
    "        <td width=\"6%\">\n",
    "            <img src=\"question_icon.png\">\n",
    "        </td>\n",
    "        <td>\n",
    "            <div align=\"left\", style=\"font-size:120%\">\n",
    "                <font color=\"#21618C\">\n",
    "                    <b>2. Extract the second word from the given string\n",
    "</b>\n",
    "                </font>\n",
    "            </div>\n",
    "        </td>\n",
    "    </tr>\n",
    "</table>"
   ]
  },
  {
   "cell_type": "markdown",
   "metadata": {
    "id": "wqAJ6qeKbroO"
   },
   "source": [
    "**Use the below string:**<br>\n",
    "    \n",
    "    sentence = 'Be confident and be yourself'"
   ]
  },
  {
   "cell_type": "code",
   "execution_count": 2,
   "metadata": {
    "id": "jmH9Erdm7Isi"
   },
   "outputs": [
    {
     "name": "stdout",
     "output_type": "stream",
     "text": [
      "confident\n"
     ]
    }
   ],
   "source": [
    "# type your code here\n",
    "# Given string\n",
    "sentence = 'Be confident and be yourself'\n",
    "\n",
    "# Split the string into words\n",
    "words = sentence.split()\n",
    "\n",
    "# Extract the second word (index 1)\n",
    "second_word = words[1]\n",
    "\n",
    "# Print the second word\n",
    "print(second_word)\n"
   ]
  },
  {
   "cell_type": "markdown",
   "metadata": {
    "id": "Es6zyYS5broR"
   },
   "source": [
    "<a id='create_manipulate'></a>\n",
    "## 2. Create and Manipulate the DataFrames:"
   ]
  },
  {
   "cell_type": "markdown",
   "metadata": {
    "id": "N45T_7y0broS"
   },
   "source": [
    "<table align=\"left\">\n",
    "    <tr>\n",
    "        <td width=\"6%\">\n",
    "            <img src=\"question_icon.png\">\n",
    "        </td>\n",
    "        <td>\n",
    "            <div align=\"left\", style=\"font-size:120%\">\n",
    "                <font color=\"#21618C\">\n",
    "                    <b>3. Split the 'Name' column into two separate columns as First_Name and Last_Name </b>\n",
    "                </font>\n",
    "            </div>\n",
    "        </td>\n",
    "    </tr>\n",
    "</table>"
   ]
  },
  {
   "cell_type": "markdown",
   "metadata": {
    "id": "cqJ5X7DrbroS"
   },
   "source": [
    "**Use the dataframe given below:**\n",
    "\n",
    "<table>\n",
    "<tr>\n",
    "<th>Name</th>\n",
    "<th>Salary</th>\n",
    "</tr>\n",
    "<tr>\n",
    "<td>Emma Larter</td>\n",
    "<td>3200</td>\n",
    "</tr>\n",
    "<tr>\n",
    "<td>Mia Junior</td>\n",
    "<td>4500</td>\n",
    "</tr>\n",
    "<tr>\n",
    "<td>Sophia Depp</td>\n",
    "<td>3600</td>\n",
    "</tr>\n",
    "<tr>\n",
    "<td>James Smith</td>\n",
    "<td>5596</td>\n",
    "</tr>\n",
    "   \n",
    "</table>"
   ]
  },
  {
   "cell_type": "code",
   "execution_count": 3,
   "metadata": {
    "id": "G3PX4ISj7Isj"
   },
   "outputs": [
    {
     "name": "stdout",
     "output_type": "stream",
     "text": [
      "   Salary First_Name Last_Name\n",
      "0    3200       Emma    Larter\n",
      "1    4500        Mia    Junior\n",
      "2    3600     Sophia      Depp\n",
      "3    5596      James     Smith\n"
     ]
    }
   ],
   "source": [
    "# type your code here\n",
    "import pandas as pd\n",
    "\n",
    "# Create the DataFrame\n",
    "data = {\n",
    "    'Name': ['Emma Larter', 'Mia Junior', 'Sophia Depp', 'James Smith'],\n",
    "    'Salary': [3200, 4500, 3600, 5596]\n",
    "}\n",
    "df = pd.DataFrame(data)\n",
    "\n",
    "# Split the 'Name' column into two new columns\n",
    "df[['First_Name', 'Last_Name']] = df['Name'].str.split(expand=True)\n",
    "\n",
    "# Drop the original 'Name' column if no longer needed\n",
    "df = df.drop(columns=['Name'])\n",
    "\n",
    "# Display the updated DataFrame\n",
    "print(df)\n"
   ]
  },
  {
   "cell_type": "markdown",
   "metadata": {
    "id": "HR_gxOnCbroV"
   },
   "source": [
    "<table align=\"left\">\n",
    "    <tr>\n",
    "        <td width=\"6%\">\n",
    "            <img src=\"question_icon.png\">\n",
    "        </td>\n",
    "        <td>\n",
    "            <div align=\"left\", style=\"font-size:120%\">\n",
    "                <font color=\"#21618C\">\n",
    "                    <b>4. Select the rows from below dataframe where marks are less than 60 </b>\n",
    "                </font>\n",
    "            </div>\n",
    "        </td>\n",
    "    </tr>\n",
    "</table>"
   ]
  },
  {
   "cell_type": "markdown",
   "metadata": {
    "id": "psRI2T3TbroW"
   },
   "source": [
    "**Use the dataframe given below:**\n",
    "\n",
    "<table>\n",
    "<tr>\n",
    "<th>Name</th>\n",
    "<th>Marks</th>\n",
    "</tr>\n",
    "<tr>\n",
    "<td>John</td>\n",
    "<td>90</td>\n",
    "</tr>\n",
    "<tr>\n",
    "<td>Robert</td>\n",
    "<td>50</td>\n",
    "</tr>\n",
    "<tr>\n",
    "<td>Jonny</td>\n",
    "<td>89</td>\n",
    "</tr>\n",
    "<tr>\n",
    "<td>Mia</td>\n",
    "<td>55</td>\n",
    "</tr>\n",
    "   \n",
    "</table>"
   ]
  },
  {
   "cell_type": "code",
   "execution_count": 4,
   "metadata": {
    "id": "eyWyBS2a7Isk"
   },
   "outputs": [
    {
     "name": "stdout",
     "output_type": "stream",
     "text": [
      "     Name  Marks\n",
      "1  Robert     50\n",
      "3     Mia     55\n"
     ]
    }
   ],
   "source": [
    "# type your code here\n",
    "import pandas as pd\n",
    "\n",
    "# Create the DataFrame\n",
    "data = {\n",
    "    'Name': ['John', 'Robert', 'Jonny', 'Mia'],\n",
    "    'Marks': [90, 50, 89, 55]\n",
    "}\n",
    "df = pd.DataFrame(data)\n",
    "\n",
    "# Select rows where Marks are less than 60\n",
    "low_marks_df = df[df['Marks'] < 60]\n",
    "\n",
    "# Display the resulting DataFrame\n",
    "print(low_marks_df)\n"
   ]
  },
  {
   "cell_type": "markdown",
   "metadata": {
    "id": "z35FqMrYbroZ"
   },
   "source": [
    "<table align=\"left\">\n",
    "    <tr>\n",
    "        <td width=\"6%\">\n",
    "            <img src=\"question_icon.png\">\n",
    "        </td>\n",
    "        <td>\n",
    "            <div align=\"left\", style=\"font-size:120%\">\n",
    "                <font color=\"#21618C\">\n",
    "                    <b>5. Write a program to select the rows where the sales are higher than 60000 for Mumbai </b>\n",
    "                </font>\n",
    "            </div>\n",
    "        </td>\n",
    "    </tr>\n",
    "</table>"
   ]
  },
  {
   "cell_type": "markdown",
   "metadata": {
    "id": "pEwm6Uj4brob"
   },
   "source": [
    "**Use the dataframe given below:**\n",
    "   \n",
    "<table>\n",
    "<tr>\n",
    "<th>Store</th>\n",
    "<th>Location</th>\n",
    "<th>Sales</th>\n",
    "</tr>\n",
    "<tr>\n",
    "<td>A</td>\n",
    "<td>Mumbai</td>\n",
    "<td>40000</td>\n",
    "</tr>\n",
    "<tr>\n",
    "<td>B</td>\n",
    "<td>Pune</td>\n",
    "<td>45000</td>\n",
    "</tr>\n",
    "<tr>\n",
    "<td>A</td>\n",
    "<td>Hyderabad</td>\n",
    "<td>50000</td>\n",
    "</tr>\n",
    "<tr>\n",
    "<td>C</td>\n",
    "<td>Mumbai</td>\n",
    "<td>90000</td>\n",
    "</tr>\n",
    "<tr>\n",
    "<td>D</td>\n",
    "<td>Pune</td>\n",
    "<td>89000</td>\n",
    "</tr>\n",
    "<tr>\n",
    "<td>A</td>\n",
    "<td>Delhi</td>\n",
    "<td>87000</td>\n",
    "</tr>\n",
    "<tr>\n",
    "<td>D</td>\n",
    "<td>Hyderabad</td>\n",
    "<td>85000</td>\n",
    "</tr>\n",
    "<tr>\n",
    "<td>A</td>\n",
    "<td>Pune</td>\n",
    "<td>78000</td>\n",
    "</tr>\n",
    "<tr>\n",
    "<td>C</td>\n",
    "<td>Mumbai</td>\n",
    "<td>89000</td>\n",
    "</tr>\n",
    "<tr>\n",
    "<td>B</td>\n",
    "<td>Pune</td>\n",
    "<td>70000</td>\n",
    "</tr>\n",
    "   \n",
    "</table>"
   ]
  },
  {
   "cell_type": "code",
   "execution_count": 5,
   "metadata": {
    "id": "Z_-bcP7ibrob"
   },
   "outputs": [
    {
     "name": "stdout",
     "output_type": "stream",
     "text": [
      "  Store Location  Sales\n",
      "3     C   Mumbai  90000\n",
      "8     C   Mumbai  89000\n"
     ]
    }
   ],
   "source": [
    "# type your code here\n",
    "import pandas as pd\n",
    "\n",
    "# Create the DataFrame\n",
    "data = {\n",
    "    'Store': ['A', 'B', 'A', 'C', 'D', 'A', 'D', 'A', 'C', 'B'],\n",
    "    'Location': ['Mumbai', 'Pune', 'Hyderabad', 'Mumbai', 'Pune', \n",
    "                 'Delhi', 'Hyderabad', 'Pune', 'Mumbai', 'Pune'],\n",
    "    'Sales': [40000, 45000, 50000, 90000, 89000, 87000, 85000, 78000, 89000, 70000]\n",
    "}\n",
    "df = pd.DataFrame(data)\n",
    "\n",
    "# Select rows where Sales are greater than 60000 for Mumbai\n",
    "high_sales_mumbai = df[(df['Location'] == 'Mumbai') & (df['Sales'] > 60000)]\n",
    "\n",
    "# Display the resulting DataFrame\n",
    "print(high_sales_mumbai)\n"
   ]
  },
  {
   "cell_type": "code",
   "execution_count": 7,
   "metadata": {},
   "outputs": [
    {
     "name": "stdout",
     "output_type": "stream",
     "text": [
      "   Unnamed: 0 Store   Location  Sales\n",
      "0           0     A     Mumbai  40000\n",
      "1           1     B       Pune  45000\n",
      "2           2     A  Hyderabad  56000\n",
      "3           3     C     Mumbai  90000\n",
      "4           4     D       Pune  89000\n",
      "5           5     A      Delhi  87000\n",
      "6           6     D  Hyderabad  85000\n",
      "7           7     A       Pune  78000\n",
      "8           8     C     Mumbai  89000\n",
      "9           9     B       Pune  70000\n"
     ]
    }
   ],
   "source": [
    "import pandas as pd\n",
    "\n",
    "# Define the file path\n",
    "file_path = r\"H:\\My Drive\\NPV-FROM E DRIVE\\NPV_DAY 2\\NPV_Inclass_Day2-1\\Day_2\\df_store.csv\"\n",
    "\n",
    "# Read the CSV file into a DataFrame\n",
    "df = pd.read_csv(file_path)\n",
    "\n",
    "# Display the DataFrame\n",
    "print(df)\n"
   ]
  },
  {
   "cell_type": "markdown",
   "metadata": {
    "id": "_UZzFsqcbroe"
   },
   "source": [
    "<table align=\"left\">\n",
    "    <tr>\n",
    "        <td width=\"6%\">\n",
    "            <img src=\"question_icon.png\">\n",
    "        </td>\n",
    "        <td>\n",
    "            <div align=\"left\", style=\"font-size:120%\">\n",
    "                <font color=\"#21618C\">\n",
    "                    <b>6. Write a program to select stores located in Hyderabad</b>\n",
    "                </font>\n",
    "            </div>\n",
    "        </td>\n",
    "    </tr>\n",
    "</table>"
   ]
  },
  {
   "cell_type": "markdown",
   "metadata": {
    "id": "xpPd6-yxbroe"
   },
   "source": [
    "**Use the dataframe given below:**\n",
    "   \n",
    "<table>\n",
    "<tr>\n",
    "<th>Store</th>\n",
    "<th>Location</th>\n",
    "<th>Sales</th>\n",
    "</tr>\n",
    "<tr>\n",
    "<td>A</td>\n",
    "<td>Mumbai</td>\n",
    "<td>40000</td>\n",
    "</tr>\n",
    "<tr>\n",
    "<td>B</td>\n",
    "<td>Pune</td>\n",
    "<td>45000</td>\n",
    "</tr>\n",
    "<tr>\n",
    "<td>A</td>\n",
    "<td>Hyderabad</td>\n",
    "<td>50000</td>\n",
    "</tr>\n",
    "<tr>\n",
    "<td>C</td>\n",
    "<td>Mumbai</td>\n",
    "<td>90000</td>\n",
    "</tr>\n",
    "<tr>\n",
    "<td>D</td>\n",
    "<td>Pune</td>\n",
    "<td>89000</td>\n",
    "</tr>\n",
    "<tr>\n",
    "<td>A</td>\n",
    "<td>Delhi</td>\n",
    "<td>87000</td>\n",
    "</tr>\n",
    "<tr>\n",
    "<td>D</td>\n",
    "<td>Hyderabad</td>\n",
    "<td>85000</td>\n",
    "</tr>\n",
    "<tr>\n",
    "<td>A</td>\n",
    "<td>Pune</td>\n",
    "<td>78000</td>\n",
    "</tr>\n",
    "<tr>\n",
    "<td>C</td>\n",
    "<td>Mumbai</td>\n",
    "<td>89000</td>\n",
    "</tr>\n",
    "<tr>\n",
    "<td>B</td>\n",
    "<td>Pune</td>\n",
    "<td>70000</td>\n",
    "</tr>\n",
    "   \n",
    "</table>"
   ]
  },
  {
   "cell_type": "code",
   "execution_count": 8,
   "metadata": {
    "id": "S3J4OGa_brof"
   },
   "outputs": [
    {
     "name": "stdout",
     "output_type": "stream",
     "text": [
      "  Store   Location  Sales\n",
      "2     A  Hyderabad  56000\n",
      "6     D  Hyderabad  85000\n"
     ]
    }
   ],
   "source": [
    "# type your code here\n",
    "# Drop the 'Unnamed: 0' column if it's not needed\n",
    "df = df.drop(columns=['Unnamed: 0'])\n",
    "\n",
    "# Select rows where the location is Hyderabad\n",
    "hyderabad_stores = df[df['Location'] == 'Hyderabad']\n",
    "\n",
    "# Display the resulting DataFrame\n",
    "print(hyderabad_stores)"
   ]
  },
  {
   "cell_type": "markdown",
   "metadata": {
    "id": "MkRQWQJMbroh"
   },
   "source": [
    "<table align=\"left\">\n",
    "    <tr>\n",
    "        <td width=\"6%\">\n",
    "            <img src=\"question_icon.png\">\n",
    "        </td>\n",
    "        <td>\n",
    "            <div align=\"left\", style=\"font-size:120%\">\n",
    "                <font color=\"#21618C\">\n",
    "                    <b>7. Write a program to replace the 'Store' column with the values A, B, C, and D with Store_A,  Store_B, Store_C and Store_D respectively </b>  \n",
    "                </font>\n",
    "            </div>\n",
    "        </td>\n",
    "    </tr>\n",
    "</table>"
   ]
  },
  {
   "cell_type": "markdown",
   "metadata": {
    "id": "NjNY0QDobroh"
   },
   "source": [
    "**Use the dataframe given below:**\n",
    "   \n",
    "<table>\n",
    "<tr>\n",
    "<th>Store</th>\n",
    "<th>Location</th>\n",
    "<th>Sales</th>\n",
    "</tr>\n",
    "<tr>\n",
    "<td>A</td>\n",
    "<td>Mumbai</td>\n",
    "<td>40000</td>\n",
    "</tr>\n",
    "<tr>\n",
    "<td>B</td>\n",
    "<td>Pune</td>\n",
    "<td>45000</td>\n",
    "</tr>\n",
    "<tr>\n",
    "<td>A</td>\n",
    "<td>Hyderabad</td>\n",
    "<td>50000</td>\n",
    "</tr>\n",
    "<tr>\n",
    "<td>C</td>\n",
    "<td>Mumbai</td>\n",
    "<td>90000</td>\n",
    "</tr>\n",
    "<tr>\n",
    "<td>D</td>\n",
    "<td>Pune</td>\n",
    "<td>89000</td>\n",
    "</tr>\n",
    "<tr>\n",
    "<td>A</td>\n",
    "<td>Delhi</td>\n",
    "<td>87000</td>\n",
    "</tr>\n",
    "<tr>\n",
    "<td>D</td>\n",
    "<td>Hyderabad</td>\n",
    "<td>85000</td>\n",
    "</tr>\n",
    "<tr>\n",
    "<td>A</td>\n",
    "<td>Pune</td>\n",
    "<td>78000</td>\n",
    "</tr>\n",
    "<tr>\n",
    "<td>C</td>\n",
    "<td>Mumbai</td>\n",
    "<td>89000</td>\n",
    "</tr>\n",
    "<tr>\n",
    "<td>B</td>\n",
    "<td>Pune</td>\n",
    "<td>70000</td>\n",
    "</tr>\n",
    "   \n",
    "</table>"
   ]
  },
  {
   "cell_type": "code",
   "execution_count": 10,
   "metadata": {
    "id": "FcqGrhbobroi"
   },
   "outputs": [
    {
     "name": "stdout",
     "output_type": "stream",
     "text": [
      "     Store   Location  Sales\n",
      "0  Store_A     Mumbai  40000\n",
      "1  Store_B       Pune  45000\n",
      "2  Store_A  Hyderabad  56000\n",
      "3  Store_C     Mumbai  90000\n",
      "4  Store_D       Pune  89000\n",
      "5  Store_A      Delhi  87000\n",
      "6  Store_D  Hyderabad  85000\n",
      "7  Store_A       Pune  78000\n",
      "8  Store_C     Mumbai  89000\n",
      "9  Store_B       Pune  70000\n"
     ]
    }
   ],
   "source": [
    "\n",
    "\n",
    "# Replace values in the 'Store' column\n",
    "df['Store'] = df['Store'].replace({\n",
    "    'A': 'Store_A',\n",
    "    'B': 'Store_B',\n",
    "    'C': 'Store_C',\n",
    "    'D': 'Store_D'\n",
    "})\n",
    "\n",
    "# Display the updated DataFrame\n",
    "print(df)"
   ]
  },
  {
   "cell_type": "markdown",
   "metadata": {
    "id": "A_FO5JqKbrok"
   },
   "source": [
    "<table align=\"left\">\n",
    "    <tr>\n",
    "        <td width=\"6%\">\n",
    "            <img src=\"question_icon.png\">\n",
    "        </td>\n",
    "        <td>\n",
    "            <div align=\"left\", style=\"font-size:120%\">\n",
    "                <font color=\"#21618C\">\n",
    "                    <b>8. Create a dataframe in pandas using the given list.\n",
    "</b>\n",
    "                </font>\n",
    "            </div>\n",
    "        </td>\n",
    "    </tr>\n",
    "</table>"
   ]
  },
  {
   "cell_type": "markdown",
   "metadata": {
    "id": "492OEIcHbrol"
   },
   "source": [
    "**Use the below list**\n",
    "\n",
    "        city = ['Delhi', 'Mumbai', 'Chennai', 'Kolkata']"
   ]
  },
  {
   "cell_type": "code",
   "execution_count": 11,
   "metadata": {
    "id": "ujlQ0ABIbrom"
   },
   "outputs": [
    {
     "name": "stdout",
     "output_type": "stream",
     "text": [
      "      City\n",
      "0    Delhi\n",
      "1   Mumbai\n",
      "2  Chennai\n",
      "3  Kolkata\n"
     ]
    }
   ],
   "source": [
    "# type your code here\n",
    "import pandas as pd\n",
    "\n",
    "# Given list of cities\n",
    "city = ['Delhi', 'Mumbai', 'Chennai', 'Kolkata']\n",
    "\n",
    "# Create the DataFrame\n",
    "df = pd.DataFrame(city, columns=['City'])\n",
    "\n",
    "# Display the DataFrame\n",
    "print(df)\n"
   ]
  },
  {
   "cell_type": "markdown",
   "metadata": {
    "id": "YaZVCuk0brop"
   },
   "source": [
    "<table align=\"left\">\n",
    "    <tr>\n",
    "        <td width=\"6%\">\n",
    "            <img src=\"question_icon.png\">\n",
    "        </td>\n",
    "        <td>\n",
    "            <div align=\"left\", style=\"font-size:120%\">\n",
    "                <font color=\"#21618C\">\n",
    "                    <b>9. Save a given dataframe to a csv file\n",
    "</b>\n",
    "                </font>\n",
    "            </div>\n",
    "        </td>\n",
    "    </tr>\n",
    "</table>"
   ]
  },
  {
   "cell_type": "markdown",
   "metadata": {
    "id": "zdG3-8djbroq"
   },
   "source": [
    "**Use the dataframe given below:**\n",
    "   \n",
    "<table>\n",
    "<tr>\n",
    "<th>Store</th>\n",
    "<th>Location</th>\n",
    "<th>Sales</th>\n",
    "</tr>\n",
    "<tr>\n",
    "<td>A</td>\n",
    "<td>Mumbai</td>\n",
    "<td>40000</td>\n",
    "</tr>\n",
    "<tr>\n",
    "<td>B</td>\n",
    "<td>Pune</td>\n",
    "<td>45000</td>\n",
    "</tr>\n",
    "<tr>\n",
    "<td>A</td>\n",
    "<td>Hyderabad</td>\n",
    "<td>50000</td>\n",
    "</tr>\n",
    "<tr>\n",
    "<td>C</td>\n",
    "<td>Mumbai</td>\n",
    "<td>90000</td>\n",
    "</tr>\n",
    "<tr>\n",
    "<td>D</td>\n",
    "<td>Pune</td>\n",
    "<td>89000</td>\n",
    "</tr>\n",
    "<tr>\n",
    "<td>A</td>\n",
    "<td>Delhi</td>\n",
    "<td>87000</td>\n",
    "</tr>\n",
    "<tr>\n",
    "<td>D</td>\n",
    "<td>Hyderabad</td>\n",
    "<td>85000</td>\n",
    "</tr>\n",
    "<tr>\n",
    "<td>A</td>\n",
    "<td>Pune</td>\n",
    "<td>78000</td>\n",
    "</tr>\n",
    "<tr>\n",
    "<td>C</td>\n",
    "<td>Mumbai</td>\n",
    "<td>89000</td>\n",
    "</tr>\n",
    "<tr>\n",
    "<td>B</td>\n",
    "<td>Pune</td>\n",
    "<td>70000</td>\n",
    "</tr>\n",
    "   \n",
    "</table>"
   ]
  },
  {
   "cell_type": "code",
   "execution_count": 12,
   "metadata": {
    "id": "LRIV0DMCbroq"
   },
   "outputs": [
    {
     "name": "stdout",
     "output_type": "stream",
     "text": [
      "DataFrame saved to 'store_data.csv'\n"
     ]
    }
   ],
   "source": [
    "# type your code here\n",
    "import pandas as pd\n",
    "\n",
    "# Create the DataFrame\n",
    "data = {\n",
    "    'Store': ['A', 'B', 'A', 'C', 'D', 'A', 'D', 'A', 'C', 'B'],\n",
    "    'Location': ['Mumbai', 'Pune', 'Hyderabad', 'Mumbai', 'Pune', \n",
    "                 'Delhi', 'Hyderabad', 'Pune', 'Mumbai', 'Pune'],\n",
    "    'Sales': [40000, 45000, 50000, 90000, 89000, 87000, 85000, 78000, 89000, 70000]\n",
    "}\n",
    "\n",
    "df = pd.DataFrame(data)\n",
    "\n",
    "# Save the DataFrame to a CSV file\n",
    "df.to_csv('store_data.csv', index=False)\n",
    "\n",
    "print(\"DataFrame saved to 'store_data.csv'\")\n"
   ]
  },
  {
   "cell_type": "markdown",
   "metadata": {
    "id": "kzBS49kCbrot"
   },
   "source": [
    "<table align=\"left\">\n",
    "    <tr>\n",
    "        <td width=\"6%\">\n",
    "            <img src=\"question_icon.png\">\n",
    "        </td>\n",
    "        <td>\n",
    "            <div align=\"left\", style=\"font-size:120%\">\n",
    "                <font color=\"#21618C\">\n",
    "                    <b>10. Find the maximum sales for each store\n",
    "</b>\n",
    "                </font>\n",
    "            </div>\n",
    "        </td>\n",
    "    </tr>\n",
    "</table>"
   ]
  },
  {
   "cell_type": "markdown",
   "metadata": {
    "id": "6pTfSncBbrot"
   },
   "source": [
    "**Use the dataframe given below:**\n",
    "   \n",
    "<table>\n",
    "<tr>\n",
    "<th>Store</th>\n",
    "<th>Location</th>\n",
    "<th>Sales</th>\n",
    "</tr>\n",
    "<tr>\n",
    "<td>A</td>\n",
    "<td>Mumbai</td>\n",
    "<td>40000</td>\n",
    "</tr>\n",
    "<tr>\n",
    "<td>B</td>\n",
    "<td>Pune</td>\n",
    "<td>45000</td>\n",
    "</tr>\n",
    "<tr>\n",
    "<td>A</td>\n",
    "<td>Hyderabad</td>\n",
    "<td>50000</td>\n",
    "</tr>\n",
    "<tr>\n",
    "<td>C</td>\n",
    "<td>Mumbai</td>\n",
    "<td>90000</td>\n",
    "</tr>\n",
    "<tr>\n",
    "<td>D</td>\n",
    "<td>Pune</td>\n",
    "<td>89000</td>\n",
    "</tr>\n",
    "<tr>\n",
    "<td>A</td>\n",
    "<td>Delhi</td>\n",
    "<td>87000</td>\n",
    "</tr>\n",
    "<tr>\n",
    "<td>D</td>\n",
    "<td>Hyderabad</td>\n",
    "<td>85000</td>\n",
    "</tr>\n",
    "<tr>\n",
    "<td>A</td>\n",
    "<td>Pune</td>\n",
    "<td>78000</td>\n",
    "</tr>\n",
    "<tr>\n",
    "<td>C</td>\n",
    "<td>Mumbai</td>\n",
    "<td>89000</td>\n",
    "</tr>\n",
    "<tr>\n",
    "<td>B</td>\n",
    "<td>Pune</td>\n",
    "<td>70000</td>\n",
    "</tr>\n",
    "   \n",
    "</table>"
   ]
  },
  {
   "cell_type": "code",
   "execution_count": 13,
   "metadata": {
    "id": "-ru3CyhDbrou"
   },
   "outputs": [
    {
     "name": "stdout",
     "output_type": "stream",
     "text": [
      "  Store  Sales\n",
      "0     A  87000\n",
      "1     B  70000\n",
      "2     C  90000\n",
      "3     D  89000\n"
     ]
    }
   ],
   "source": [
    "# type your code here\n",
    "df = pd.DataFrame(data)\n",
    "\n",
    "# Find the maximum sales for each store\n",
    "max_sales = df.groupby('Store')['Sales'].max().reset_index()\n",
    "\n",
    "# Display the result\n",
    "print(max_sales)"
   ]
  },
  {
   "cell_type": "markdown",
   "metadata": {
    "id": "-AeYRdcBbrow"
   },
   "source": [
    "<table align=\"left\">\n",
    "    <tr>\n",
    "        <td width=\"6%\">\n",
    "            <img src=\"question_icon.png\">\n",
    "        </td>\n",
    "        <td>\n",
    "            <div align=\"left\", style=\"font-size:120%\">\n",
    "                <font color=\"#21618C\">\n",
    "                    <b>11. Write a program to select all columns, except the 'Location' from the given dataframe\n",
    "</b>\n",
    "                </font>\n",
    "            </div>\n",
    "        </td>\n",
    "    </tr>\n",
    "</table>"
   ]
  },
  {
   "cell_type": "markdown",
   "metadata": {
    "id": "FhMe-BOlbrow"
   },
   "source": [
    "**Use the dataframe given below:**\n",
    "   \n",
    "<table>\n",
    "<tr>\n",
    "<th>Store</th>\n",
    "<th>Location</th>\n",
    "<th>Sales</th>\n",
    "</tr>\n",
    "<tr>\n",
    "<td>A</td>\n",
    "<td>Mumbai</td>\n",
    "<td>40000</td>\n",
    "</tr>\n",
    "<tr>\n",
    "<td>B</td>\n",
    "<td>Pune</td>\n",
    "<td>45000</td>\n",
    "</tr>\n",
    "<tr>\n",
    "<td>A</td>\n",
    "<td>Hyderabad</td>\n",
    "<td>50000</td>\n",
    "</tr>\n",
    "<tr>\n",
    "<td>C</td>\n",
    "<td>Mumbai</td>\n",
    "<td>90000</td>\n",
    "</tr>\n",
    "<tr>\n",
    "<td>D</td>\n",
    "<td>Pune</td>\n",
    "<td>89000</td>\n",
    "</tr>\n",
    "<tr>\n",
    "<td>A</td>\n",
    "<td>Delhi</td>\n",
    "<td>87000</td>\n",
    "</tr>\n",
    "<tr>\n",
    "<td>D</td>\n",
    "<td>Hyderabad</td>\n",
    "<td>85000</td>\n",
    "</tr>\n",
    "<tr>\n",
    "<td>A</td>\n",
    "<td>Pune</td>\n",
    "<td>78000</td>\n",
    "</tr>\n",
    "<tr>\n",
    "<td>C</td>\n",
    "<td>Mumbai</td>\n",
    "<td>89000</td>\n",
    "</tr>\n",
    "<tr>\n",
    "<td>B</td>\n",
    "<td>Pune</td>\n",
    "<td>70000</td>\n",
    "</tr>\n",
    "   \n",
    "</table>"
   ]
  },
  {
   "cell_type": "code",
   "execution_count": 14,
   "metadata": {
    "id": "VZwFNyNmbrow"
   },
   "outputs": [
    {
     "name": "stdout",
     "output_type": "stream",
     "text": [
      "  Store  Sales\n",
      "0     A  40000\n",
      "1     B  45000\n",
      "2     A  50000\n",
      "3     C  90000\n",
      "4     D  89000\n",
      "5     A  87000\n",
      "6     D  85000\n",
      "7     A  78000\n",
      "8     C  89000\n",
      "9     B  70000\n"
     ]
    }
   ],
   "source": [
    "# type your code here\n",
    "df = pd.DataFrame(data)\n",
    "\n",
    "# Select all columns except 'Location'\n",
    "df_without_location = df.drop(columns=['Location'])\n",
    "\n",
    "# Display the resulting DataFrame\n",
    "print(df_without_location)"
   ]
  },
  {
   "cell_type": "markdown",
   "metadata": {
    "id": "jdPQGGNbbroy"
   },
   "source": [
    "<table align=\"left\">\n",
    "    <tr>\n",
    "        <td width=\"6%\">\n",
    "            <img src=\"question_icon.png\">\n",
    "        </td>\n",
    "        <td>\n",
    "            <div align=\"left\", style=\"font-size:120%\">\n",
    "                <font color=\"#21618C\">\n",
    "                    <b>12. Write a program to insert a given column at the second position in a dataframe\n",
    "</b>\n",
    "                </font>\n",
    "            </div>\n",
    "        </td>\n",
    "    </tr>\n",
    "</table>"
   ]
  },
  {
   "cell_type": "markdown",
   "metadata": {
    "id": "eTt8takEbroz"
   },
   "source": [
    "**Use the dataframe given below:**\n",
    "\n",
    "<table>\n",
    "<tr>\n",
    "<th>Name</th>\n",
    "<th>Age</th>\n",
    "</tr>\n",
    "<tr>\n",
    "<td>Emma Larter</td>\n",
    "<td>34</td>\n",
    "</tr>\n",
    "<tr>\n",
    "<td>Mia Junior</td>\n",
    "<td>59</td>\n",
    "</tr>\n",
    "<tr>\n",
    "<td>Sophia Depp</td>\n",
    "<td>32</td>\n",
    "</tr>\n",
    "<tr>\n",
    "<td>James Smith</td>\n",
    "<td>40</td>\n",
    "</tr>\n",
    "   \n",
    "</table>\n",
    "\n",
    "**Add the variable 'Salary' as second column**<br>\n",
    "            \n",
    "            Salary = [35000, 24000, 55000, 40000]"
   ]
  },
  {
   "cell_type": "code",
   "execution_count": 15,
   "metadata": {
    "id": "SkFzhAaRbroz"
   },
   "outputs": [
    {
     "name": "stdout",
     "output_type": "stream",
     "text": [
      "          Name  Salary  Age\n",
      "0  Emma Larter   35000   34\n",
      "1   Mia Junior   24000   59\n",
      "2  Sophia Depp   55000   32\n",
      "3  James Smith   40000   40\n"
     ]
    }
   ],
   "source": [
    "# type your code here\n",
    "import pandas as pd\n",
    "\n",
    "# Create the DataFrame\n",
    "data = {\n",
    "    'Name': ['Emma Larter', 'Mia Junior', 'Sophia Depp', 'James Smith'],\n",
    "    'Age': [34, 59, 32, 40]\n",
    "}\n",
    "df = pd.DataFrame(data)\n",
    "\n",
    "# Given Salary list\n",
    "Salary = [35000, 24000, 55000, 40000]\n",
    "\n",
    "# Insert the Salary column at the second position (index 1)\n",
    "df.insert(1, 'Salary', Salary)\n",
    "\n",
    "# Display the updated DataFrame\n",
    "print(df)\n"
   ]
  },
  {
   "cell_type": "markdown",
   "metadata": {
    "id": "u57xUd5cbro1"
   },
   "source": [
    "<table align=\"left\">\n",
    "    <tr>\n",
    "        <td width=\"6%\">\n",
    "            <img src=\"question_icon.png\">\n",
    "        </td>\n",
    "        <td>\n",
    "            <div align=\"left\", style=\"font-size:120%\">\n",
    "                <font color=\"#21618C\">\n",
    "                    <b>13. Write a program to get the third observation of the given dataframe\n",
    "</b>\n",
    "                </font>\n",
    "            </div>\n",
    "        </td>\n",
    "    </tr>\n",
    "</table>"
   ]
  },
  {
   "cell_type": "markdown",
   "metadata": {
    "id": "q-SX6ARYbro2"
   },
   "source": [
    "**Use the dataframe given below:**\n",
    "\n",
    "<table>\n",
    "<tr>\n",
    "<th>Name</th>\n",
    "<th>Age</th>\n",
    "</tr>\n",
    "<tr>\n",
    "<td>Emma Larter</td>\n",
    "<td>34</td>\n",
    "</tr>\n",
    "<tr>\n",
    "<td>Mia Junior</td>\n",
    "<td>59</td>\n",
    "</tr>\n",
    "<tr>\n",
    "<td>Sophia Depp</td>\n",
    "<td>32</td>\n",
    "</tr>\n",
    "<tr>\n",
    "<td>James Smith</td>\n",
    "<td>40</td>\n",
    "</tr>\n",
    "</table>    "
   ]
  },
  {
   "cell_type": "code",
   "execution_count": 16,
   "metadata": {
    "id": "mbhm0alkbro2"
   },
   "outputs": [
    {
     "name": "stdout",
     "output_type": "stream",
     "text": [
      "Name    Sophia Depp\n",
      "Age              32\n",
      "Name: 2, dtype: object\n"
     ]
    }
   ],
   "source": [
    "# type your code here\n",
    "import pandas as pd\n",
    "\n",
    "# Create the DataFrame\n",
    "data = {\n",
    "    'Name': ['Emma Larter', 'Mia Junior', 'Sophia Depp', 'James Smith'],\n",
    "    'Age': [34, 59, 32, 40]\n",
    "}\n",
    "df = pd.DataFrame(data)\n",
    "\n",
    "# Get the third observation (index 2)\n",
    "third_observation = df.iloc[2]\n",
    "\n",
    "# Display the third observation\n",
    "print(third_observation)\n"
   ]
  },
  {
   "cell_type": "markdown",
   "metadata": {
    "id": "3BSI3I2Bbro4"
   },
   "source": [
    "<table align=\"left\">\n",
    "    <tr>\n",
    "        <td width=\"6%\">\n",
    "            <img src=\"question_icon.png\">\n",
    "        </td>\n",
    "        <td>\n",
    "            <div align=\"left\", style=\"font-size:120%\">\n",
    "                <font color=\"#21618C\">\n",
    "                    <b>14. Write a program to create a dataframe from the provided lists</b>\n",
    "                </font>\n",
    "            </div>\n",
    "        </td>\n",
    "    </tr>\n",
    "</table>"
   ]
  },
  {
   "cell_type": "markdown",
   "metadata": {
    "id": "6sJVU9BKbro5"
   },
   "source": [
    "**Use the following lists to create your arrays:**\n",
    "        \n",
    "            columns = [\"Science\", \"Maths\", \"English\"]\n",
    "            \n",
    "            marks = [[55, 78, 88], [93, 63, 83],[94, 74, 64]]\n",
    "            \n",
    "**Hint:** Convert the list marks into an array           "
   ]
  },
  {
   "cell_type": "code",
   "execution_count": 17,
   "metadata": {
    "id": "i43LDErebro5"
   },
   "outputs": [
    {
     "name": "stdout",
     "output_type": "stream",
     "text": [
      "   Science  Maths  English\n",
      "0       55     78       88\n",
      "1       93     63       83\n",
      "2       94     74       64\n"
     ]
    }
   ],
   "source": [
    "# type your code here\n",
    "import pandas as pd\n",
    "\n",
    "# Provided lists\n",
    "columns = [\"Science\", \"Maths\", \"English\"]\n",
    "marks = [[55, 78, 88], [93, 63, 83], [94, 74, 64]]\n",
    "\n",
    "# Convert marks to a DataFrame\n",
    "df = pd.DataFrame(marks, columns=columns)\n",
    "\n",
    "# Display the DataFrame\n",
    "print(df)\n"
   ]
  },
  {
   "cell_type": "markdown",
   "metadata": {
    "id": "lT3ns2Anbro8"
   },
   "source": [
    "<table align=\"left\">\n",
    "    <tr>\n",
    "        <td width=\"6%\">\n",
    "            <img src=\"question_icon.png\">\n",
    "        </td>\n",
    "        <td>\n",
    "            <div align=\"left\", style=\"font-size:120%\">\n",
    "                <font color=\"#21618C\">\n",
    "                    <b>15. Write a program to count total sales per store </b>\n",
    "                </font>\n",
    "            </div>\n",
    "        </td>\n",
    "    </tr>\n",
    "</table>"
   ]
  },
  {
   "cell_type": "markdown",
   "metadata": {
    "id": "JLRKaQRMbro8"
   },
   "source": [
    "**Use the dataframe given below:**\n",
    "   \n",
    "<table>\n",
    "<tr>\n",
    "<th>Store</th>\n",
    "<th>Location</th>\n",
    "<th>Sales</th>\n",
    "</tr>\n",
    "<tr>\n",
    "<td>A</td>\n",
    "<td>Mumbai</td>\n",
    "<td>40000</td>\n",
    "</tr>\n",
    "<tr>\n",
    "<td>B</td>\n",
    "<td>Pune</td>\n",
    "<td>45000</td>\n",
    "</tr>\n",
    "<tr>\n",
    "<td>A</td>\n",
    "<td>Hyderabad</td>\n",
    "<td>50000</td>\n",
    "</tr>\n",
    "<tr>\n",
    "<td>C</td>\n",
    "<td>Mumbai</td>\n",
    "<td>90000</td>\n",
    "</tr>\n",
    "<tr>\n",
    "<td>D</td>\n",
    "<td>Pune</td>\n",
    "<td>89000</td>\n",
    "</tr>\n",
    "<tr>\n",
    "<td>A</td>\n",
    "<td>Delhi</td>\n",
    "<td>87000</td>\n",
    "</tr>\n",
    "<tr>\n",
    "<td>D</td>\n",
    "<td>Hyderabad</td>\n",
    "<td>85000</td>\n",
    "</tr>\n",
    "<tr>\n",
    "<td>A</td>\n",
    "<td>Pune</td>\n",
    "<td>78000</td>\n",
    "</tr>\n",
    "<tr>\n",
    "<td>C</td>\n",
    "<td>Mumbai</td>\n",
    "<td>89000</td>\n",
    "</tr>\n",
    "<tr>\n",
    "<td>B</td>\n",
    "<td>Pune</td>\n",
    "<td>70000</td>\n",
    "</tr>\n",
    "   \n",
    "</table>"
   ]
  },
  {
   "cell_type": "code",
   "execution_count": 21,
   "metadata": {},
   "outputs": [
    {
     "name": "stdout",
     "output_type": "stream",
     "text": [
      "  Store  Total_Sales\n",
      "0     A       255000\n",
      "1     B       115000\n",
      "2     C       179000\n",
      "3     D       174000\n"
     ]
    }
   ],
   "source": [
    "import pandas as pd\n",
    "\n",
    "# Create the DataFrame\n",
    "data = {\n",
    "    'Store': ['A', 'B', 'A', 'C', 'D', 'A', 'D', 'A', 'C', 'B'],\n",
    "    'Location': ['Mumbai', 'Pune', 'Hyderabad', 'Mumbai', 'Pune', \n",
    "                 'Delhi', 'Hyderabad', 'Pune', 'Mumbai', 'Pune'],\n",
    "    'Sales': [40000, 45000, 50000, 90000, 89000, 87000, 85000, 78000, 89000, 70000]\n",
    "}\n",
    "\n",
    "df = pd.DataFrame(data)\n",
    "\n",
    "# Count total sales per store\n",
    "total_sales_per_store = df.groupby('Store')['Sales'].sum().reset_index()\n",
    "\n",
    "# Rename the Sales column for clarity\n",
    "total_sales_per_store.rename(columns={'Sales': 'Total_Sales'}, inplace=True)\n",
    "\n",
    "# Display the result\n",
    "print(total_sales_per_store)\n"
   ]
  },
  {
   "cell_type": "markdown",
   "metadata": {
    "id": "MczOZRuhbrpB"
   },
   "source": [
    "<a id='sorting'></a>\n",
    "## 3. Sort"
   ]
  },
  {
   "cell_type": "markdown",
   "metadata": {
    "id": "5t-wNWrlbrpC"
   },
   "source": [
    "<table align=\"left\">\n",
    "    <tr>\n",
    "        <td width=\"6%\">\n",
    "            <img src=\"question_icon.png\">\n",
    "        </td>\n",
    "        <td>\n",
    "            <div align=\"left\", style=\"font-size:120%\">\n",
    "                <font color=\"#21618C\">\n",
    "                    <b>16. Write a program to sort the dataframe by 'Sales' in ascending order\n",
    "</b>\n",
    "                </font>\n",
    "            </div>\n",
    "        </td>\n",
    "    </tr>\n",
    "</table>"
   ]
  },
  {
   "cell_type": "markdown",
   "metadata": {
    "id": "PKqI6PuFbrpC"
   },
   "source": [
    "**Use the dataframe given below:**\n",
    "   \n",
    "<table>\n",
    "<tr>\n",
    "<th>Store</th>\n",
    "<th>Location</th>\n",
    "<th>Sales</th>\n",
    "</tr>\n",
    "<tr>\n",
    "<td>A</td>\n",
    "<td>Mumbai</td>\n",
    "<td>40000</td>\n",
    "</tr>\n",
    "<tr>\n",
    "<td>B</td>\n",
    "<td>Pune</td>\n",
    "<td>45000</td>\n",
    "</tr>\n",
    "<tr>\n",
    "<td>A</td>\n",
    "<td>Hyderabad</td>\n",
    "<td>50000</td>\n",
    "</tr>\n",
    "<tr>\n",
    "<td>C</td>\n",
    "<td>Mumbai</td>\n",
    "<td>90000</td>\n",
    "</tr>\n",
    "<tr>\n",
    "<td>D</td>\n",
    "<td>Pune</td>\n",
    "<td>89000</td>\n",
    "</tr>\n",
    "<tr>\n",
    "<td>A</td>\n",
    "<td>Delhi</td>\n",
    "<td>87000</td>\n",
    "</tr>\n",
    "<tr>\n",
    "<td>D</td>\n",
    "<td>Hyderabad</td>\n",
    "<td>85000</td>\n",
    "</tr>\n",
    "<tr>\n",
    "<td>A</td>\n",
    "<td>Pune</td>\n",
    "<td>78000</td>\n",
    "</tr>\n",
    "<tr>\n",
    "<td>C</td>\n",
    "<td>Mumbai</td>\n",
    "<td>89000</td>\n",
    "</tr>\n",
    "<tr>\n",
    "<td>B</td>\n",
    "<td>Pune</td>\n",
    "<td>70000</td>\n",
    "</tr>\n",
    "   \n",
    "</table>"
   ]
  },
  {
   "cell_type": "code",
   "execution_count": 22,
   "metadata": {
    "id": "LtDTGRxA7Isr"
   },
   "outputs": [
    {
     "name": "stdout",
     "output_type": "stream",
     "text": [
      "  Store   Location  Sales\n",
      "0     A     Mumbai  40000\n",
      "1     B       Pune  45000\n",
      "2     A  Hyderabad  50000\n",
      "9     B       Pune  70000\n",
      "7     A       Pune  78000\n",
      "6     D  Hyderabad  85000\n",
      "5     A      Delhi  87000\n",
      "4     D       Pune  89000\n",
      "8     C     Mumbai  89000\n",
      "3     C     Mumbai  90000\n"
     ]
    }
   ],
   "source": [
    "# type your code here\n",
    "import pandas as pd\n",
    "\n",
    "# Create the DataFrame\n",
    "data = {\n",
    "    'Store': ['A', 'B', 'A', 'C', 'D', 'A', 'D', 'A', 'C', 'B'],\n",
    "    'Location': ['Mumbai', 'Pune', 'Hyderabad', 'Mumbai', 'Pune', \n",
    "                 'Delhi', 'Hyderabad', 'Pune', 'Mumbai', 'Pune'],\n",
    "    'Sales': [40000, 45000, 50000, 90000, 89000, 87000, 85000, 78000, 89000, 70000]\n",
    "}\n",
    "\n",
    "df = pd.DataFrame(data)\n",
    "\n",
    "# Sort the DataFrame by 'Sales' in ascending order\n",
    "sorted_df = df.sort_values(by='Sales', ascending=True)\n",
    "\n",
    "# Display the sorted DataFrame\n",
    "print(sorted_df)\n"
   ]
  },
  {
   "cell_type": "markdown",
   "metadata": {
    "id": "7ti1ghjLbrpG"
   },
   "source": [
    "<table align=\"left\">\n",
    "    <tr>\n",
    "        <td width=\"6%\">\n",
    "            <img src=\"question_icon.png\">\n",
    "        </td>\n",
    "        <td>\n",
    "            <div align=\"left\", style=\"font-size:120%\">\n",
    "                <font color=\"#21618C\">\n",
    "                    <b>17. Write a program to sort the dataframe by 'Store' in ascending order and by 'Sales' in descending order with respect to store simultaneously\n",
    "</b>\n",
    "                </font>\n",
    "            </div>\n",
    "        </td>\n",
    "    </tr>\n",
    "</table>"
   ]
  },
  {
   "cell_type": "markdown",
   "metadata": {
    "id": "cGyakcEdbrpG"
   },
   "source": [
    "**Use the dataframe given below:**\n",
    "   \n",
    "<table>\n",
    "<tr>\n",
    "<th>Store</th>\n",
    "<th>Location</th>\n",
    "<th>Sales</th>\n",
    "</tr>\n",
    "<tr>\n",
    "<td>A</td>\n",
    "<td>Mumbai</td>\n",
    "<td>40000</td>\n",
    "</tr>\n",
    "<tr>\n",
    "<td>B</td>\n",
    "<td>Pune</td>\n",
    "<td>45000</td>\n",
    "</tr>\n",
    "<tr>\n",
    "<td>A</td>\n",
    "<td>Hyderabad</td>\n",
    "<td>50000</td>\n",
    "</tr>\n",
    "<tr>\n",
    "<td>C</td>\n",
    "<td>Mumbai</td>\n",
    "<td>90000</td>\n",
    "</tr>\n",
    "<tr>\n",
    "<td>D</td>\n",
    "<td>Pune</td>\n",
    "<td>89000</td>\n",
    "</tr>\n",
    "<tr>\n",
    "<td>A</td>\n",
    "<td>Delhi</td>\n",
    "<td>87000</td>\n",
    "</tr>\n",
    "<tr>\n",
    "<td>D</td>\n",
    "<td>Hyderabad</td>\n",
    "<td>85000</td>\n",
    "</tr>\n",
    "<tr>\n",
    "<td>A</td>\n",
    "<td>Pune</td>\n",
    "<td>78000</td>\n",
    "</tr>\n",
    "<tr>\n",
    "<td>C</td>\n",
    "<td>Mumbai</td>\n",
    "<td>89000</td>\n",
    "</tr>\n",
    "<tr>\n",
    "<td>B</td>\n",
    "<td>Pune</td>\n",
    "<td>70000</td>\n",
    "</tr>\n",
    "   \n",
    "</table>"
   ]
  },
  {
   "cell_type": "code",
   "execution_count": 23,
   "metadata": {
    "id": "tdCkIYaXbrpG"
   },
   "outputs": [
    {
     "name": "stdout",
     "output_type": "stream",
     "text": [
      "  Store   Location  Sales\n",
      "5     A      Delhi  87000\n",
      "7     A       Pune  78000\n",
      "2     A  Hyderabad  50000\n",
      "0     A     Mumbai  40000\n",
      "9     B       Pune  70000\n",
      "1     B       Pune  45000\n",
      "3     C     Mumbai  90000\n",
      "8     C     Mumbai  89000\n",
      "4     D       Pune  89000\n",
      "6     D  Hyderabad  85000\n"
     ]
    }
   ],
   "source": [
    "# type your code here\n",
    "import pandas as pd\n",
    "\n",
    "# Create the DataFrame\n",
    "data = {\n",
    "    'Store': ['A', 'B', 'A', 'C', 'D', 'A', 'D', 'A', 'C', 'B'],\n",
    "    'Location': ['Mumbai', 'Pune', 'Hyderabad', 'Mumbai', 'Pune', \n",
    "                 'Delhi', 'Hyderabad', 'Pune', 'Mumbai', 'Pune'],\n",
    "    'Sales': [40000, 45000, 50000, 90000, 89000, 87000, 85000, 78000, 89000, 70000]\n",
    "}\n",
    "\n",
    "df = pd.DataFrame(data)\n",
    "\n",
    "# Sort the DataFrame by 'Store' in ascending order and 'Sales' in descending order\n",
    "sorted_df = df.sort_values(by=['Store', 'Sales'], ascending=[True, False])\n",
    "\n",
    "# Display the sorted DataFrame\n",
    "print(sorted_df)\n"
   ]
  },
  {
   "cell_type": "markdown",
   "metadata": {
    "id": "6ISK8C4nbrpI"
   },
   "source": [
    "<a id='ranking'></a>\n",
    "## 4. Rank"
   ]
  },
  {
   "cell_type": "markdown",
   "metadata": {
    "id": "Vk0X5xxqbrpJ"
   },
   "source": [
    "<table align=\"left\">\n",
    "    <tr>\n",
    "        <td width=\"6%\">\n",
    "            <img src=\"question_icon.png\">\n",
    "        </td>\n",
    "        <td>\n",
    "            <div align=\"left\", style=\"font-size:120%\">\n",
    "                <font color=\"#21618C\">\n",
    "                    <b>18. Create a column 'Rank_sales' which contains the rank of each store based on sales of the product in ascending order\n",
    "</b>\n",
    "                </font>\n",
    "            </div>\n",
    "        </td>\n",
    "    </tr>\n",
    "</table>"
   ]
  },
  {
   "cell_type": "markdown",
   "metadata": {
    "id": "7O5czmbmbrpJ"
   },
   "source": [
    "**Use the dataframe given below:**\n",
    "   \n",
    "<table>\n",
    "<tr>\n",
    "<th>Store</th>\n",
    "<th>Location</th>\n",
    "<th>Sales</th>\n",
    "</tr>\n",
    "<tr>\n",
    "<td>A</td>\n",
    "<td>Mumbai</td>\n",
    "<td>40000</td>\n",
    "</tr>\n",
    "<tr>\n",
    "<td>B</td>\n",
    "<td>Pune</td>\n",
    "<td>45000</td>\n",
    "</tr>\n",
    "<tr>\n",
    "<td>A</td>\n",
    "<td>Hyderabad</td>\n",
    "<td>50000</td>\n",
    "</tr>\n",
    "<tr>\n",
    "<td>C</td>\n",
    "<td>Mumbai</td>\n",
    "<td>90000</td>\n",
    "</tr>\n",
    "<tr>\n",
    "<td>D</td>\n",
    "<td>Pune</td>\n",
    "<td>89000</td>\n",
    "</tr>\n",
    "<tr>\n",
    "<td>A</td>\n",
    "<td>Delhi</td>\n",
    "<td>87000</td>\n",
    "</tr>\n",
    "<tr>\n",
    "<td>D</td>\n",
    "<td>Hyderabad</td>\n",
    "<td>85000</td>\n",
    "</tr>\n",
    "<tr>\n",
    "<td>A</td>\n",
    "<td>Pune</td>\n",
    "<td>78000</td>\n",
    "</tr>\n",
    "<tr>\n",
    "<td>C</td>\n",
    "<td>Mumbai</td>\n",
    "<td>89000</td>\n",
    "</tr>\n",
    "<tr>\n",
    "<td>B</td>\n",
    "<td>Pune</td>\n",
    "<td>70000</td>\n",
    "</tr>\n",
    "   \n",
    "</table>"
   ]
  },
  {
   "cell_type": "code",
   "execution_count": 24,
   "metadata": {
    "id": "8Crt7wH6brpJ"
   },
   "outputs": [
    {
     "name": "stdout",
     "output_type": "stream",
     "text": [
      "  Store   Location  Sales  Rank_sales\n",
      "0     A     Mumbai  40000         1.0\n",
      "1     B       Pune  45000         2.0\n",
      "2     A  Hyderabad  50000         3.0\n",
      "3     C     Mumbai  90000        10.0\n",
      "4     D       Pune  89000         8.0\n",
      "5     A      Delhi  87000         7.0\n",
      "6     D  Hyderabad  85000         6.0\n",
      "7     A       Pune  78000         5.0\n",
      "8     C     Mumbai  89000         8.0\n",
      "9     B       Pune  70000         4.0\n"
     ]
    }
   ],
   "source": [
    "# type your code here\n",
    "import pandas as pd\n",
    "\n",
    "# Create the DataFrame\n",
    "data = {\n",
    "    'Store': ['A', 'B', 'A', 'C', 'D', 'A', 'D', 'A', 'C', 'B'],\n",
    "    'Location': ['Mumbai', 'Pune', 'Hyderabad', 'Mumbai', 'Pune', \n",
    "                 'Delhi', 'Hyderabad', 'Pune', 'Mumbai', 'Pune'],\n",
    "    'Sales': [40000, 45000, 50000, 90000, 89000, 87000, 85000, 78000, 89000, 70000]\n",
    "}\n",
    "\n",
    "df = pd.DataFrame(data)\n",
    "\n",
    "# Calculate the rank based on sales in ascending order\n",
    "df['Rank_sales'] = df['Sales'].rank(method='min', ascending=True)\n",
    "\n",
    "# Display the updated DataFrame\n",
    "print(df)\n"
   ]
  }
 ],
 "metadata": {
  "colab": {
   "collapsed_sections": [
    "MczOZRuhbrpB",
    "6ISK8C4nbrpI"
   ],
   "name": "NPV-Day 2_IC Exercise-Questions.ipynb",
   "provenance": []
  },
  "kernelspec": {
   "display_name": "Python 3 (ipykernel)",
   "language": "python",
   "name": "python3"
  },
  "language_info": {
   "codemirror_mode": {
    "name": "ipython",
    "version": 3
   },
   "file_extension": ".py",
   "mimetype": "text/x-python",
   "name": "python",
   "nbconvert_exporter": "python",
   "pygments_lexer": "ipython3",
   "version": "3.11.5"
  },
  "widgets": {
   "application/vnd.jupyter.widget-state+json": {
    "state": {},
    "version_major": 2,
    "version_minor": 0
   }
  }
 },
 "nbformat": 4,
 "nbformat_minor": 4
}
