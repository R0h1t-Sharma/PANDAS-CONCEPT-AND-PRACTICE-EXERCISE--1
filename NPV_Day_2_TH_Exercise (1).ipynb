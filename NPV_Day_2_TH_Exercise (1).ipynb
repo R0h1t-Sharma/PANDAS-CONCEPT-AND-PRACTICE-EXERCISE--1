{
 "cells": [
  {
   "cell_type": "markdown",
   "metadata": {
    "id": "sZ0ina97_o0p"
   },
   "source": [
    "<table align=\"center\" width=100%>\n",
    "    <tr>\n",
    "        <td width=\"20%\">\n",
    "            <img src=\"GL-2.png\">\n",
    "        </td>\n",
    "        <td>\n",
    "            <div align=\"center\">\n",
    "                <font color=\"#21618C\" size=8px>\n",
    "                    <b> Take-Home <br>(Day 2)\n",
    "                    </b>\n",
    "                </font>\n",
    "            </div>\n",
    "        </td>\n",
    "    </tr>\n",
    "</table>"
   ]
  },
  {
   "cell_type": "markdown",
   "metadata": {
    "id": "8seBywGz_o0t"
   },
   "source": [
    "### Let's begin with some hands-on practice exercises"
   ]
  },
  {
   "cell_type": "markdown",
   "metadata": {
    "id": "aKe9Se5d_o0u"
   },
   "source": [
    "<table align=\"left\">\n",
    "    <tr>\n",
    "        <td width=\"6%\">\n",
    "            <img src=\"question_icon.png\">\n",
    "        </td>\n",
    "        <td>\n",
    "            <div align=\"left\", style=\"font-size:120%\">\n",
    "                <font color=\"#21618C\">\n",
    "                    <b> 1. Create a dictionary named 'europe_dict' which has names of countries in europe, their capital and their population. \n",
    "                    </b>\n",
    "                </font>\n",
    "            </div>\n",
    "        </td>\n",
    "    </tr>\n",
    "</table>"
   ]
  },
  {
   "cell_type": "markdown",
   "metadata": {
    "id": "wauasWnO_o0u"
   },
   "source": [
    "<table>\n",
    "  <tr>\n",
    "  <th>Country </th>\n",
    "  <th>Capital</th>\n",
    "  <th>Population</th>    \n",
    "  </tr>\n",
    "  <tr>\n",
    "  <td>Spain</td>\n",
    "  <td>Madrid</td>\n",
    "  <td>46.77</td>    \n",
    "  </tr>\n",
    "  <tr>\n",
    "  <td>France</td>\n",
    "  <td>Paris</td>\n",
    "  <td>66.03</td> \n",
    "  </tr>\n",
    "  <tr>\n",
    "  <td>Germany</td>\n",
    "  <td>Berlin</td>\n",
    "  <td>80.62</td> \n",
    "  </tr>\n",
    "  <tr>\n",
    "  <td>Norway</td>\n",
    "  <td>Oslo</td>\n",
    "  <td>5.084 </td> \n",
    "</tr>\n",
    "</table>"
   ]
  },
  {
   "cell_type": "code",
   "execution_count": 1,
   "metadata": {
    "id": "zxkTFw5q_o0v"
   },
   "outputs": [
    {
     "name": "stdout",
     "output_type": "stream",
     "text": [
      "{'Spain': {'Capital': 'Madrid', 'Population': 46.77}, 'France': {'Capital': 'Paris', 'Population': 66.03}, 'Germany': {'Capital': 'Berlin', 'Population': 80.62}, 'Norway': {'Capital': 'Oslo', 'Population': 5.084}}\n"
     ]
    }
   ],
   "source": [
    "# type your code here\n",
    "# Create the dictionary\n",
    "europe_dict = {\n",
    "    'Spain': {\n",
    "        'Capital': 'Madrid',\n",
    "        'Population': 46.77\n",
    "    },\n",
    "    'France': {\n",
    "        'Capital': 'Paris',\n",
    "        'Population': 66.03\n",
    "    },\n",
    "    'Germany': {\n",
    "        'Capital': 'Berlin',\n",
    "        'Population': 80.62\n",
    "    },\n",
    "    'Norway': {\n",
    "        'Capital': 'Oslo',\n",
    "        'Population': 5.084\n",
    "    }\n",
    "}\n",
    "\n",
    "# Display the dictionary\n",
    "print(europe_dict)\n"
   ]
  },
  {
   "cell_type": "markdown",
   "metadata": {
    "id": "BseYW3EY_o0w"
   },
   "source": [
    "<table align=\"left\">\n",
    "    <tr>\n",
    "        <td width=\"6%\">\n",
    "            <img src=\"question_icon.png\">\n",
    "        </td>\n",
    "        <td>\n",
    "            <div align=\"left\", style=\"font-size:120%\">\n",
    "                <font color=\"#21618C\">\n",
    "                    <b> 2. For the DataFrame created in question 1, add a new column 'FamousFor'. The column tells what each country is famous for. Refer the sample output.\n",
    "                    </b>\n",
    "                </font>\n",
    "            </div>\n",
    "        </td>\n",
    "    </tr>\n",
    "</table>"
   ]
  },
  {
   "cell_type": "markdown",
   "metadata": {
    "id": "s_kOXNrxvGl5"
   },
   "source": [
    "<table>\n",
    "  <tr>\n",
    "  <th>Country </th>\n",
    "  <th>FamousFor</th>   \n",
    "  </tr>\n",
    "  <tr>\n",
    "  <td>Spain</td>\n",
    "  <td>Football</td>  \n",
    "  </tr>\n",
    "  <tr>\n",
    "  <td>France</td>\n",
    "  <td>Eiffel Tower</td>\n",
    "  </tr>\n",
    "  <tr>\n",
    "  <td>Germany</td>\n",
    "  <td>Cars</td>\n",
    "  </tr>\n",
    "  <tr>\n",
    "  <td>Norway</td>\n",
    "  <td>Midnight sun</td>\n",
    "</tr>\n",
    "</table>"
   ]
  },
  {
   "cell_type": "code",
   "execution_count": 2,
   "metadata": {
    "id": "wOqcSYOj_o0x"
   },
   "outputs": [
    {
     "name": "stdout",
     "output_type": "stream",
     "text": [
      "   Country Capital  Population     FamousFor\n",
      "0    Spain  Madrid      46.770      Football\n",
      "1   France   Paris      66.030  Eiffel Tower\n",
      "2  Germany  Berlin      80.620          Cars\n",
      "3   Norway    Oslo       5.084  Midnight sun\n"
     ]
    }
   ],
   "source": [
    "# type your code here\n",
    "import pandas as pd\n",
    "\n",
    "# Create the dictionary\n",
    "europe_dict = {\n",
    "    'Spain': {\n",
    "        'Capital': 'Madrid',\n",
    "        'Population': 46.77\n",
    "    },\n",
    "    'France': {\n",
    "        'Capital': 'Paris',\n",
    "        'Population': 66.03\n",
    "    },\n",
    "    'Germany': {\n",
    "        'Capital': 'Berlin',\n",
    "        'Population': 80.62\n",
    "    },\n",
    "    'Norway': {\n",
    "        'Capital': 'Oslo',\n",
    "        'Population': 5.084\n",
    "    }\n",
    "}\n",
    "\n",
    "# Convert the dictionary to a DataFrame\n",
    "df = pd.DataFrame.from_dict(europe_dict, orient='index').reset_index()\n",
    "df.rename(columns={'index': 'Country'}, inplace=True)\n",
    "\n",
    "# Step 2: Add the new column 'FamousFor'\n",
    "famous_for = {\n",
    "    'Spain': 'Football',\n",
    "    'France': 'Eiffel Tower',\n",
    "    'Germany': 'Cars',\n",
    "    'Norway': 'Midnight sun'\n",
    "}\n",
    "\n",
    "# Map the famous_for values to the DataFrame\n",
    "df['FamousFor'] = df['Country'].map(famous_for)\n",
    "\n",
    "# Display the updated DataFrame\n",
    "print(df)\n"
   ]
  },
  {
   "cell_type": "markdown",
   "metadata": {
    "id": "YG25No-e_o0x"
   },
   "source": [
    "<table align=\"left\">\n",
    "    <tr>\n",
    "        <td width=\"6%\">\n",
    "            <img src=\"question_icon.png\">\n",
    "        </td>\n",
    "        <td>\n",
    "            <div align=\"left\", style=\"font-size:120%\">\n",
    "                <font color=\"#21618C\">\n",
    "                    <b> 3. Use the data created in question 1, to do the following:\n",
    "                          <ol type = '1'>\n",
    "                              <li>  Access column 'Captial' by specifying the column number. </li>\n",
    "                              <li>  Access column 'Population' by specifying the column name.\n",
    "                              <li>  Access a country information </li>\n",
    "                    </b>\n",
    "                </font>\n",
    "            </div>\n",
    "        </td>\n",
    "    </tr>\n",
    "</table>"
   ]
  },
  {
   "cell_type": "code",
   "execution_count": 3,
   "metadata": {},
   "outputs": [
    {
     "name": "stdout",
     "output_type": "stream",
     "text": [
      "   Country Capital  Population\n",
      "0    Spain  Madrid      46.770\n",
      "1   France   Paris      66.030\n",
      "2  Germany  Berlin      80.620\n",
      "3   Norway    Oslo       5.084\n"
     ]
    }
   ],
   "source": [
    "import pandas as pd\n",
    "\n",
    "# Create the dictionary\n",
    "europe_dict = {\n",
    "    'Spain': {\n",
    "        'Capital': 'Madrid',\n",
    "        'Population': 46.77\n",
    "    },\n",
    "    'France': {\n",
    "        'Capital': 'Paris',\n",
    "        'Population': 66.03\n",
    "    },\n",
    "    'Germany': {\n",
    "        'Capital': 'Berlin',\n",
    "        'Population': 80.62\n",
    "    },\n",
    "    'Norway': {\n",
    "        'Capital': 'Oslo',\n",
    "        'Population': 5.084\n",
    "    }\n",
    "}\n",
    "\n",
    "# Convert the dictionary to a DataFrame\n",
    "df = pd.DataFrame.from_dict(europe_dict, orient='index').reset_index()\n",
    "df.rename(columns={'index': 'Country'}, inplace=True)\n",
    "\n",
    "# Display the DataFrame\n",
    "print(df)\n"
   ]
  },
  {
   "cell_type": "code",
   "execution_count": 4,
   "metadata": {
    "id": "OhXdphXT_o0y"
   },
   "outputs": [
    {
     "name": "stdout",
     "output_type": "stream",
     "text": [
      "Capital Column:\n",
      "0    Madrid\n",
      "1     Paris\n",
      "2    Berlin\n",
      "3      Oslo\n",
      "Name: Capital, dtype: object\n"
     ]
    }
   ],
   "source": [
    "# 1. Access column 'Captial' by specifying the column number.\n",
    "\n",
    "# type your code here\n",
    "# Access 'Capital' column by column number (index 1)\n",
    "capital_column = df.iloc[:, 1]\n",
    "print(\"Capital Column:\")\n",
    "print(capital_column)\n"
   ]
  },
  {
   "cell_type": "code",
   "execution_count": 5,
   "metadata": {
    "id": "2sxOd-JM_o0y"
   },
   "outputs": [
    {
     "name": "stdout",
     "output_type": "stream",
     "text": [
      "\n",
      "Population Column:\n",
      "0    46.770\n",
      "1    66.030\n",
      "2    80.620\n",
      "3     5.084\n",
      "Name: Population, dtype: float64\n"
     ]
    }
   ],
   "source": [
    "# 2. Access column 'Population' by specifying the column name.\n",
    "\n",
    "# type your code here\n",
    "# Access 'Population' column by column name\n",
    "population_column = df['Population']\n",
    "print(\"\\nPopulation Column:\")\n",
    "print(population_column)\n"
   ]
  },
  {
   "cell_type": "code",
   "execution_count": 6,
   "metadata": {
    "id": "3f9eFtEc_o0y"
   },
   "outputs": [
    {
     "name": "stdout",
     "output_type": "stream",
     "text": [
      "\n",
      "Spain Information:\n",
      "  Country Capital  Population\n",
      "0   Spain  Madrid       46.77\n"
     ]
    }
   ],
   "source": [
    "# 3. Access a country information\n",
    "\n",
    "# type your code here   \n",
    "# Access information for Spain\n",
    "spain_info = df[df['Country'] == 'Spain']\n",
    "print(\"\\nSpain Information:\")\n",
    "print(spain_info)\n"
   ]
  },
  {
   "cell_type": "markdown",
   "metadata": {
    "id": "U0dwc3BO_o0y"
   },
   "source": [
    "<table align=\"left\">\n",
    "    <tr>\n",
    "        <td width=\"6%\">\n",
    "            <img src=\"question_icon.png\">\n",
    "        </td>\n",
    "        <td>\n",
    "            <div align=\"left\", style=\"font-size:120%\">\n",
    "                <font color=\"#21618C\">\n",
    "                    <b> 4. Read a csv file \"products.csv\", print it and also check its dimensions\n",
    "                    </b>\n",
    "                </font>\n",
    "            </div>\n",
    "        </td>\n",
    "    </tr>\n",
    "</table>"
   ]
  },
  {
   "cell_type": "code",
   "execution_count": 7,
   "metadata": {
    "id": "rw_ZAIrf_o0z"
   },
   "outputs": [
    {
     "name": "stdout",
     "output_type": "stream",
     "text": [
      "DataFrame Contents:\n",
      "  Product ID  Cost Price  Selling Price\n",
      "0       45SD          60            135\n",
      "1       12PO          43            121\n",
      "2       54PL          78            150\n",
      "3       26PL          65            121\n",
      "4       68HG          50            132\n",
      "5       21ER         150            152\n",
      "6       10FG         132            165\n",
      "7       57HB         134            161\n",
      "8       75VB         109            124\n",
      "9      32HJH         121            152\n"
     ]
    }
   ],
   "source": [
    "# read the file\n",
    "import pandas as pd\n",
    "\n",
    "# Specify the file path\n",
    "file_path = r\"H:\\My Drive\\NPV-FROM E DRIVE\\NPV_DAY 2\\NPV_Take_Home_Day2\\Day 2\\NPV-Day 2_TH Data Table_products.csv\"\n",
    "\n",
    "# Read the CSV file\n",
    "df = pd.read_csv(file_path)\n",
    "\n",
    "# Print the DataFrame\n",
    "print(\"DataFrame Contents:\")\n",
    "print(df)\n",
    "\n"
   ]
  },
  {
   "cell_type": "code",
   "execution_count": 8,
   "metadata": {},
   "outputs": [
    {
     "name": "stdout",
     "output_type": "stream",
     "text": [
      "\n",
      "Dimensions of the DataFrame (rows, columns): (10, 3)\n"
     ]
    }
   ],
   "source": [
    "# Check the dimensions\n",
    "dimensions = df.shape\n",
    "print(\"\\nDimensions of the DataFrame (rows, columns):\", dimensions)\n",
    "\n",
    "# type your code here"
   ]
  },
  {
   "cell_type": "markdown",
   "metadata": {
    "id": "GAE5RoPS_o0z"
   },
   "source": [
    "<table align=\"left\">\n",
    "    <tr>\n",
    "        <td width=\"6%\">\n",
    "            <img src=\"question_icon.png\">\n",
    "        </td>\n",
    "        <td>\n",
    "            <div align=\"left\", style=\"font-size:120%\">\n",
    "                <font color=\"#21618C\">\n",
    "                    <b> 5. Create a new column Profit, calculate the profit using selling price and the cost price.\n",
    "                    </b>\n",
    "                </font>\n",
    "            </div>\n",
    "        </td>\n",
    "    </tr>\n",
    "</table>"
   ]
  },
  {
   "cell_type": "code",
   "execution_count": 9,
   "metadata": {
    "id": "v2805Fsh_o00"
   },
   "outputs": [
    {
     "name": "stdout",
     "output_type": "stream",
     "text": [
      "DataFrame Contents:\n",
      "  Product ID  Cost Price  Selling Price\n",
      "0       45SD          60            135\n",
      "1       12PO          43            121\n",
      "2       54PL          78            150\n",
      "3       26PL          65            121\n",
      "4       68HG          50            132\n",
      "5       21ER         150            152\n",
      "6       10FG         132            165\n",
      "7       57HB         134            161\n",
      "8       75VB         109            124\n",
      "9      32HJH         121            152\n",
      "\n",
      "Updated DataFrame with Profit Column:\n",
      "  Product ID  Cost Price  Selling Price  Profit\n",
      "0       45SD          60            135      75\n",
      "1       12PO          43            121      78\n",
      "2       54PL          78            150      72\n",
      "3       26PL          65            121      56\n",
      "4       68HG          50            132      82\n",
      "5       21ER         150            152       2\n",
      "6       10FG         132            165      33\n",
      "7       57HB         134            161      27\n",
      "8       75VB         109            124      15\n",
      "9      32HJH         121            152      31\n"
     ]
    }
   ],
   "source": [
    "# type your code here\n",
    "# Print the DataFrame\n",
    "print(\"DataFrame Contents:\")\n",
    "print(df)\n",
    "\n",
    "# Check if 'Selling Price' and 'Cost Price' columns exist\n",
    "if 'Selling Price' in df.columns and 'Cost Price' in df.columns:\n",
    "    # Create a new column 'Profit'\n",
    "    df['Profit'] = df['Selling Price'] - df['Cost Price']\n",
    "    \n",
    "    # Display the updated DataFrame\n",
    "    print(\"\\nUpdated DataFrame with Profit Column:\")\n",
    "    print(df)\n",
    "else:\n",
    "    print(\"The required columns 'Selling Price' and 'Cost Price' are not present in the DataFrame.\")"
   ]
  },
  {
   "cell_type": "markdown",
   "metadata": {
    "id": "enZNzsmu_o00"
   },
   "source": [
    "<table align=\"left\">\n",
    "    <tr>\n",
    "        <td width=\"6%\">\n",
    "            <img src=\"question_icon.png\">\n",
    "        </td>\n",
    "        <td>\n",
    "            <div align=\"left\", style=\"font-size:120%\">\n",
    "                <font color=\"#21618C\">\n",
    "                    <b> 6. Create a pandas series having values 4, 7, -5, 3, NAN and their index as d, b, a, c, e\n",
    "                    </b>\n",
    "                </font>\n",
    "            </div>\n",
    "        </td>\n",
    "    </tr>\n",
    "</table>"
   ]
  },
  {
   "cell_type": "code",
   "execution_count": 10,
   "metadata": {
    "id": "TLfZcUNq_o00"
   },
   "outputs": [
    {
     "name": "stdout",
     "output_type": "stream",
     "text": [
      "d    4.0\n",
      "b    7.0\n",
      "a   -5.0\n",
      "c    3.0\n",
      "e    NaN\n",
      "dtype: float64\n"
     ]
    }
   ],
   "source": [
    "## type your code here\n",
    "import pandas as pd\n",
    "import numpy as np  # For NaN value\n",
    "\n",
    "# Create the Series\n",
    "data = [4, 7, -5, 3, np.nan]  # Use np.nan for the NaN value\n",
    "index = ['d', 'b', 'a', 'c', 'e']\n",
    "\n",
    "# Create the Series\n",
    "series = pd.Series(data, index=index)\n",
    "\n",
    "# Display the Series\n",
    "print(series)\n"
   ]
  },
  {
   "cell_type": "markdown",
   "metadata": {
    "id": "nZQKiYEf_o00"
   },
   "source": [
    "<table align=\"left\">\n",
    "    <tr>\n",
    "        <td width=\"6%\">\n",
    "            <img src=\"question_icon.png\">\n",
    "        </td>\n",
    "        <td>\n",
    "            <div align=\"left\", style=\"font-size:120%\">\n",
    "                <font color=\"#21618C\">\n",
    "                    <b> 7. Using the series in question 6, find:\n",
    "                        <ol type = '1'>\n",
    "                            <li> the minimum of all values </li>\n",
    "                            <li> the maximum of all values </li>\n",
    "                        </ol>\n",
    "                    </b>\n",
    "                </font>\n",
    "            </div>\n",
    "        </td>\n",
    "    </tr>\n",
    "</table>"
   ]
  },
  {
   "cell_type": "code",
   "execution_count": 11,
   "metadata": {},
   "outputs": [
    {
     "name": "stdout",
     "output_type": "stream",
     "text": [
      "Series:\n",
      "d    4.0\n",
      "b    7.0\n",
      "a   -5.0\n",
      "c    3.0\n",
      "e    NaN\n",
      "dtype: float64\n",
      "\n",
      "Minimum value: -5.0\n",
      "Maximum value: 7.0\n"
     ]
    }
   ],
   "source": [
    "import pandas as pd\n",
    "import numpy as np  # For NaN value\n",
    "\n",
    "# Create the Series\n",
    "data = [4, 7, -5, 3, np.nan]  # Use np.nan for the NaN value\n",
    "index = ['d', 'b', 'a', 'c', 'e']\n",
    "series = pd.Series(data, index=index)\n",
    "\n",
    "# Display the Series\n",
    "print(\"Series:\")\n",
    "print(series)\n",
    "\n",
    "# Find the minimum and maximum values\n",
    "min_value = series.min()\n",
    "max_value = series.max()\n",
    "\n",
    "# Display the results\n",
    "print(\"\\nMinimum value:\", min_value)\n",
    "print(\"Maximum value:\", max_value)\n"
   ]
  },
  {
   "cell_type": "markdown",
   "metadata": {
    "id": "Db2x-A6__o01"
   },
   "source": [
    "<table align=\"left\">\n",
    "    <tr>\n",
    "        <td width=\"6%\">\n",
    "            <img src=\"question_icon.png\">\n",
    "        </td>\n",
    "        <td>\n",
    "            <div align=\"left\", style=\"font-size:120%\">\n",
    "                <font color=\"#21618C\">\n",
    "                    <b> 8. Using the series in question 6, sort:\n",
    "                         <ol type = '1'>\n",
    "                             <li>  the values in ascending order </li>\n",
    "                             <li>  the values in decending order  </li>\n",
    "                        </ol>\n",
    "                    </b>\n",
    "                </font>\n",
    "            </div>\n",
    "        </td>\n",
    "    </tr>\n",
    "</table>"
   ]
  },
  {
   "cell_type": "code",
   "execution_count": 12,
   "metadata": {},
   "outputs": [
    {
     "name": "stdout",
     "output_type": "stream",
     "text": [
      "Original Series:\n",
      "d    4.0\n",
      "b    7.0\n",
      "a   -5.0\n",
      "c    3.0\n",
      "e    NaN\n",
      "dtype: float64\n",
      "\n",
      "Sorted in Ascending Order:\n",
      "a   -5.0\n",
      "c    3.0\n",
      "d    4.0\n",
      "b    7.0\n",
      "e    NaN\n",
      "dtype: float64\n",
      "\n",
      "Sorted in Descending Order:\n",
      "b    7.0\n",
      "d    4.0\n",
      "c    3.0\n",
      "a   -5.0\n",
      "e    NaN\n",
      "dtype: float64\n"
     ]
    }
   ],
   "source": [
    "import pandas as pd\n",
    "import numpy as np  # For NaN value\n",
    "\n",
    "# Create the Series\n",
    "data = [4, 7, -5, 3, np.nan]  # Use np.nan for the NaN value\n",
    "index = ['d', 'b', 'a', 'c', 'e']\n",
    "series = pd.Series(data, index=index)\n",
    "\n",
    "# Display the Series\n",
    "print(\"Original Series:\")\n",
    "print(series)\n",
    "\n",
    "# Sort the values in ascending order\n",
    "sorted_ascending = series.sort_values(ascending=True)\n",
    "print(\"\\nSorted in Ascending Order:\")\n",
    "print(sorted_ascending)\n",
    "\n",
    "# Sort the values in descending order\n",
    "sorted_descending = series.sort_values(ascending=False)\n",
    "print(\"\\nSorted in Descending Order:\")\n",
    "print(sorted_descending)\n"
   ]
  },
  {
   "cell_type": "markdown",
   "metadata": {
    "id": "6H5RaF5y_o02"
   },
   "source": [
    "<table align=\"left\">\n",
    "    <tr>\n",
    "        <td width=\"6%\">\n",
    "            <img src=\"question_icon.png\">\n",
    "        </td>\n",
    "        <td>\n",
    "            <div align=\"left\", style=\"font-size:120%\">\n",
    "                <font color=\"#21618C\">\n",
    "                    <b> 9. Import dataset 'flights' from library seaborn. Print the first 10 rows and last 20 rows of the data set.\n",
    "                    </b>\n",
    "                </font>\n",
    "            </div>\n",
    "        </td>\n",
    "    </tr>\n",
    "</table>"
   ]
  },
  {
   "cell_type": "code",
   "execution_count": 13,
   "metadata": {
    "id": "4CpXorIx_o02"
   },
   "outputs": [
    {
     "name": "stdout",
     "output_type": "stream",
     "text": [
      "First 10 rows of the flights dataset:\n",
      "   year month  passengers\n",
      "0  1949   Jan         112\n",
      "1  1949   Feb         118\n",
      "2  1949   Mar         132\n",
      "3  1949   Apr         129\n",
      "4  1949   May         121\n",
      "5  1949   Jun         135\n",
      "6  1949   Jul         148\n",
      "7  1949   Aug         148\n",
      "8  1949   Sep         136\n",
      "9  1949   Oct         119\n",
      "\n",
      "Last 20 rows of the flights dataset:\n",
      "     year month  passengers\n",
      "124  1959   May         420\n",
      "125  1959   Jun         472\n",
      "126  1959   Jul         548\n",
      "127  1959   Aug         559\n",
      "128  1959   Sep         463\n",
      "129  1959   Oct         407\n",
      "130  1959   Nov         362\n",
      "131  1959   Dec         405\n",
      "132  1960   Jan         417\n",
      "133  1960   Feb         391\n",
      "134  1960   Mar         419\n",
      "135  1960   Apr         461\n",
      "136  1960   May         472\n",
      "137  1960   Jun         535\n",
      "138  1960   Jul         622\n",
      "139  1960   Aug         606\n",
      "140  1960   Sep         508\n",
      "141  1960   Oct         461\n",
      "142  1960   Nov         390\n",
      "143  1960   Dec         432\n"
     ]
    }
   ],
   "source": [
    "# import the dataset\n",
    "\n",
    "# type your code here\n",
    "import seaborn as sns\n",
    "\n",
    "# Load the flights dataset\n",
    "flights = sns.load_dataset('flights')\n",
    "\n",
    "# Print the first 10 rows\n",
    "print(\"First 10 rows of the flights dataset:\")\n",
    "print(flights.head(10))\n",
    "\n",
    "# Print the last 20 rows\n",
    "print(\"\\nLast 20 rows of the flights dataset:\")\n",
    "print(flights.tail(20))\n"
   ]
  },
  {
   "cell_type": "markdown",
   "metadata": {
    "id": "eGFJICqN_o02"
   },
   "source": [
    "<table align=\"left\">\n",
    "    <tr>\n",
    "        <td width=\"6%\">\n",
    "            <img src=\"question_icon.png\">\n",
    "        </td>\n",
    "        <td>\n",
    "            <div align=\"left\", style=\"font-size:120%\">\n",
    "                <font color=\"#21618C\">\n",
    "                    <b> 10. Import dataset 'iris' from library seaborn. Check for datatypes of all variable.\n",
    "                    </b>\n",
    "                </font>\n",
    "            </div>\n",
    "        </td>\n",
    "    </tr>\n",
    "</table>"
   ]
  },
  {
   "cell_type": "code",
   "execution_count": 14,
   "metadata": {},
   "outputs": [
    {
     "name": "stdout",
     "output_type": "stream",
     "text": [
      "Data Types of All Variables in the Iris Dataset:\n",
      "sepal_length    float64\n",
      "sepal_width     float64\n",
      "petal_length    float64\n",
      "petal_width     float64\n",
      "species          object\n",
      "dtype: object\n"
     ]
    }
   ],
   "source": [
    "import seaborn as sns\n",
    "\n",
    "# Load the iris dataset\n",
    "iris = sns.load_dataset('iris')\n",
    "\n",
    "# Check the data types of all variables\n",
    "data_types = iris.dtypes\n",
    "\n",
    "# Print the data types\n",
    "print(\"Data Types of All Variables in the Iris Dataset:\")\n",
    "print(data_types)\n"
   ]
  }
 ],
 "metadata": {
  "colab": {
   "collapsed_sections": [],
   "name": "NPV_Day_2_TH_Exercise.ipynb",
   "provenance": []
  },
  "kernelspec": {
   "display_name": "Python 3 (ipykernel)",
   "language": "python",
   "name": "python3"
  },
  "language_info": {
   "codemirror_mode": {
    "name": "ipython",
    "version": 3
   },
   "file_extension": ".py",
   "mimetype": "text/x-python",
   "name": "python",
   "nbconvert_exporter": "python",
   "pygments_lexer": "ipython3",
   "version": "3.11.5"
  },
  "widgets": {
   "application/vnd.jupyter.widget-state+json": {
    "state": {},
    "version_major": 2,
    "version_minor": 0
   }
  }
 },
 "nbformat": 4,
 "nbformat_minor": 4
}
